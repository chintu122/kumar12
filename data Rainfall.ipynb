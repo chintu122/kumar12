{
 "cells": [
  {
   "cell_type": "code",
   "execution_count": 58,
   "id": "c645e5ce",
   "metadata": {},
   "outputs": [],
   "source": [
    "import pandas as pd\n",
    "import numpy as np\n",
    "import matplotlib.pyplot as plt\n",
    "import seaborn as sns\n"
   ]
  },
  {
   "cell_type": "code",
   "execution_count": 59,
   "id": "d712dff6",
   "metadata": {},
   "outputs": [],
   "source": [
    "df=pd.read_csv(r\"C:\\Users\\Chintukumar\\Desktop\\bihar_rainfall.csv\")"
   ]
  },
  {
   "cell_type": "code",
   "execution_count": 60,
   "id": "bb1a5fec",
   "metadata": {},
   "outputs": [
    {
     "data": {
      "text/html": [
       "<div>\n",
       "<style scoped>\n",
       "    .dataframe tbody tr th:only-of-type {\n",
       "        vertical-align: middle;\n",
       "    }\n",
       "\n",
       "    .dataframe tbody tr th {\n",
       "        vertical-align: top;\n",
       "    }\n",
       "\n",
       "    .dataframe thead th {\n",
       "        text-align: right;\n",
       "    }\n",
       "</style>\n",
       "<table border=\"1\" class=\"dataframe\">\n",
       "  <thead>\n",
       "    <tr style=\"text-align: right;\">\n",
       "      <th></th>\n",
       "      <th>District</th>\n",
       "      <th>2007_Average_no_of_rainy_days</th>\n",
       "      <th>2007_Actual_Rainfall</th>\n",
       "      <th>2008_Average_no_of_rainy_days</th>\n",
       "      <th>2008_Actual_Rainfall</th>\n",
       "      <th>2009_Average_no_of_rainy_days</th>\n",
       "      <th>2009_Actual_Rainfall</th>\n",
       "      <th>2010_Average_no_of_rainy_days</th>\n",
       "      <th>2010_Actual_Rainfall</th>\n",
       "      <th>2011_Average_no_of_rainy_days</th>\n",
       "      <th>2011_Actual_Rainfall</th>\n",
       "    </tr>\n",
       "  </thead>\n",
       "  <tbody>\n",
       "    <tr>\n",
       "      <th>0</th>\n",
       "      <td>Patna</td>\n",
       "      <td>51.9</td>\n",
       "      <td>1492.5</td>\n",
       "      <td>62.1</td>\n",
       "      <td>1284.5</td>\n",
       "      <td>39.6</td>\n",
       "      <td>733.8</td>\n",
       "      <td>31.2</td>\n",
       "      <td>573.8</td>\n",
       "      <td>44.9</td>\n",
       "      <td>1011.2</td>\n",
       "    </tr>\n",
       "    <tr>\n",
       "      <th>1</th>\n",
       "      <td>Nalanda</td>\n",
       "      <td>50.1</td>\n",
       "      <td>1257.6</td>\n",
       "      <td>52.6</td>\n",
       "      <td>1150.7</td>\n",
       "      <td>35.6</td>\n",
       "      <td>592.9</td>\n",
       "      <td>35.8</td>\n",
       "      <td>598.5</td>\n",
       "      <td>46.1</td>\n",
       "      <td>1164.8</td>\n",
       "    </tr>\n",
       "    <tr>\n",
       "      <th>2</th>\n",
       "      <td>Bhojpur</td>\n",
       "      <td>47.3</td>\n",
       "      <td>1377.6</td>\n",
       "      <td>61.8</td>\n",
       "      <td>1321.5</td>\n",
       "      <td>33.4</td>\n",
       "      <td>683.2</td>\n",
       "      <td>32.7</td>\n",
       "      <td>623.1</td>\n",
       "      <td>44.1</td>\n",
       "      <td>955.9</td>\n",
       "    </tr>\n",
       "    <tr>\n",
       "      <th>3</th>\n",
       "      <td>Buxar</td>\n",
       "      <td>43.2</td>\n",
       "      <td>944.0</td>\n",
       "      <td>49.7</td>\n",
       "      <td>1355.6</td>\n",
       "      <td>28.6</td>\n",
       "      <td>562.7</td>\n",
       "      <td>28.3</td>\n",
       "      <td>579.2</td>\n",
       "      <td>45.1</td>\n",
       "      <td>1003.6</td>\n",
       "    </tr>\n",
       "    <tr>\n",
       "      <th>4</th>\n",
       "      <td>Rohtas</td>\n",
       "      <td>39.3</td>\n",
       "      <td>977.1</td>\n",
       "      <td>58.4</td>\n",
       "      <td>1133.3</td>\n",
       "      <td>33.1</td>\n",
       "      <td>811.0</td>\n",
       "      <td>23.4</td>\n",
       "      <td>419.6</td>\n",
       "      <td>42.0</td>\n",
       "      <td>1057.5</td>\n",
       "    </tr>\n",
       "  </tbody>\n",
       "</table>\n",
       "</div>"
      ],
      "text/plain": [
       "  District  2007_Average_no_of_rainy_days  2007_Actual_Rainfall  \\\n",
       "0    Patna                           51.9                1492.5   \n",
       "1  Nalanda                           50.1                1257.6   \n",
       "2  Bhojpur                           47.3                1377.6   \n",
       "3    Buxar                           43.2                 944.0   \n",
       "4   Rohtas                           39.3                 977.1   \n",
       "\n",
       "   2008_Average_no_of_rainy_days  2008_Actual_Rainfall  \\\n",
       "0                           62.1                1284.5   \n",
       "1                           52.6                1150.7   \n",
       "2                           61.8                1321.5   \n",
       "3                           49.7                1355.6   \n",
       "4                           58.4                1133.3   \n",
       "\n",
       "   2009_Average_no_of_rainy_days  2009_Actual_Rainfall  \\\n",
       "0                           39.6                 733.8   \n",
       "1                           35.6                 592.9   \n",
       "2                           33.4                 683.2   \n",
       "3                           28.6                 562.7   \n",
       "4                           33.1                 811.0   \n",
       "\n",
       "   2010_Average_no_of_rainy_days  2010_Actual_Rainfall  \\\n",
       "0                           31.2                 573.8   \n",
       "1                           35.8                 598.5   \n",
       "2                           32.7                 623.1   \n",
       "3                           28.3                 579.2   \n",
       "4                           23.4                 419.6   \n",
       "\n",
       "   2011_Average_no_of_rainy_days  2011_Actual_Rainfall  \n",
       "0                           44.9                1011.2  \n",
       "1                           46.1                1164.8  \n",
       "2                           44.1                 955.9  \n",
       "3                           45.1                1003.6  \n",
       "4                           42.0                1057.5  "
      ]
     },
     "execution_count": 60,
     "metadata": {},
     "output_type": "execute_result"
    }
   ],
   "source": [
    "df.head()"
   ]
  },
  {
   "cell_type": "code",
   "execution_count": 61,
   "id": "c2dea153",
   "metadata": {},
   "outputs": [
    {
     "data": {
      "text/plain": [
       "Index(['District', '2007_Average_no_of_rainy_days', '2007_Actual_Rainfall',\n",
       "       '2008_Average_no_of_rainy_days', '2008_Actual_Rainfall',\n",
       "       '2009_Average_no_of_rainy_days', '2009_Actual_Rainfall',\n",
       "       '2010_Average_no_of_rainy_days', '2010_Actual_Rainfall',\n",
       "       '2011_Average_no_of_rainy_days', '2011_Actual_Rainfall'],\n",
       "      dtype='object')"
      ]
     },
     "execution_count": 61,
     "metadata": {},
     "output_type": "execute_result"
    }
   ],
   "source": [
    "df.columns"
   ]
  },
  {
   "cell_type": "code",
   "execution_count": 62,
   "id": "47892683",
   "metadata": {},
   "outputs": [
    {
     "data": {
      "text/plain": [
       "pandas.core.frame.DataFrame"
      ]
     },
     "execution_count": 62,
     "metadata": {},
     "output_type": "execute_result"
    }
   ],
   "source": [
    "pd.DataFrame"
   ]
  },
  {
   "cell_type": "code",
   "execution_count": 63,
   "id": "07032be7",
   "metadata": {},
   "outputs": [
    {
     "data": {
      "text/plain": [
       "District                         0\n",
       "2007_Average_no_of_rainy_days    0\n",
       "2007_Actual_Rainfall             0\n",
       "2008_Average_no_of_rainy_days    0\n",
       "2008_Actual_Rainfall             0\n",
       "2009_Average_no_of_rainy_days    0\n",
       "2009_Actual_Rainfall             0\n",
       "2010_Average_no_of_rainy_days    0\n",
       "2010_Actual_Rainfall             0\n",
       "2011_Average_no_of_rainy_days    0\n",
       "2011_Actual_Rainfall             0\n",
       "dtype: int64"
      ]
     },
     "execution_count": 63,
     "metadata": {},
     "output_type": "execute_result"
    }
   ],
   "source": [
    "# Data processing\n",
    "df.isnull().sum()\n",
    "    "
   ]
  },
  {
   "cell_type": "code",
   "execution_count": 64,
   "id": "169912b8",
   "metadata": {},
   "outputs": [],
   "source": [
    "#Drop column\n",
    "df = df.dropna(axis=1, thresh=0.5)"
   ]
  },
  {
   "cell_type": "code",
   "execution_count": 65,
   "id": "fb3cc1b2",
   "metadata": {},
   "outputs": [
    {
     "name": "stderr",
     "output_type": "stream",
     "text": [
      "C:\\Users\\Chintukumar\\AppData\\Local\\Temp\\ipykernel_4672\\3249636790.py:2: FutureWarning: The default value of numeric_only in DataFrame.mean is deprecated. In a future version, it will default to False. In addition, specifying 'numeric_only=None' is deprecated. Select only valid columns or specify the value of numeric_only to silence this warning.\n",
      "  df = df.fillna(df.mean())\n"
     ]
    }
   ],
   "source": [
    "# Fill missing values with the mean of the column\n",
    "df = df.fillna(df.mean())\n"
   ]
  },
  {
   "cell_type": "code",
   "execution_count": 66,
   "id": "bc87cf61",
   "metadata": {},
   "outputs": [
    {
     "data": {
      "image/png": "[encoded data removed]",
      "text/plain": [
       "<Figure size 640x480 with 1 Axes>"
      ]
     },
     "metadata": {},
     "output_type": "display_data"
    }
   ],
   "source": [
    "# Check for outliers\n",
    "sns.boxplot(df['2008_Average_no_of_rainy_days'])\n",
    "plt.show()"
   ]
  },
  {
   "cell_type": "code",
   "execution_count": 73,
   "id": "16c8fdbb",
   "metadata": {},
   "outputs": [
    {
     "ename": "SyntaxError",
     "evalue": "invalid decimal literal (307451095.py, line 3)",
     "output_type": "error",
     "traceback": [
      "\u001b[1;36m  Cell \u001b[1;32mIn[73], line 3\u001b[1;36m\u001b[0m\n\u001b[1;33m    sns.barplot(x=2008_Average_no_of_rainy_days, y=2009_Average_no_of_rainy_days)\u001b[0m\n\u001b[1;37m                      ^\u001b[0m\n\u001b[1;31mSyntaxError\u001b[0m\u001b[1;31m:\u001b[0m invalid decimal literal\n"
     ]
    }
   ],
   "source": [
    "# Standardize the data\n",
    "plt.figure(figsize=(10, 6))\n",
    "sns.barplot(x=, y=2009_Average_no_of_rainy_day)\n",
    "plt.title('Feature Importance')\n",
    "plt.show()\n"
   ]
  },
  {
   "cell_type": "code",
   "execution_count": null,
   "id": "26d1e209",
   "metadata": {},
   "outputs": [],
   "source": []
  }
 ],
 "metadata": {
  "kernelspec": {
   "display_name": "Python 3 (ipykernel)",
   "language": "python",
   "name": "python3"
  },
  "language_info": {
   "codemirror_mode": {
    "name": "ipython",
    "version": 3
   },
   "file_extension": ".py",
   "mimetype": "text/x-python",
   "name": "python",
   "nbconvert_exporter": "python",
   "pygments_lexer": "ipython3",
   "version": "3.10.9"
  }
 },
 "nbformat": 4,
 "nbformat_minor": 5
}
